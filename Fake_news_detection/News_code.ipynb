{
 "cells": [
  {
   "cell_type": "markdown",
   "id": "2b5b6c82-8956-421b-8dd8-8890a3a59f72",
   "metadata": {
    "jp-MarkdownHeadingCollapsed": true,
    "tags": []
   },
   "source": [
    "# Importing the libararies"
   ]
  },
  {
   "cell_type": "code",
   "execution_count": 1,
   "id": "e9e74fe1-0c3e-4052-8276-ee1f13141e8c",
   "metadata": {},
   "outputs": [
    {
     "name": "stderr",
     "output_type": "stream",
     "text": [
      "[nltk_data] Downloading package stopwords to\n",
      "[nltk_data]     C:\\Users\\YUVRAJ\\AppData\\Roaming\\nltk_data...\n",
      "[nltk_data]   Package stopwords is already up-to-date!\n"
     ]
    }
   ],
   "source": [
    "import re\n",
    "import pandas as pd\n",
    "import numpy as np\n",
    "import seaborn as sns\n",
    "import matplotlib.pyplot as plt\n",
    "from sklearn.decomposition import PCA\n",
    "\n",
    "# For data cleaning and creating word embeddings\n",
    "import nltk\n",
    "nltk.download('stopwords')\n",
    "from nltk.corpus import stopwords\n",
    "from nltk.stem import WordNetLemmatizer\n",
    "import gensim\n",
    "from gensim.models import Word2Vec\n",
    "from gensim.utils import simple_preprocess\n",
    "import pycountry\n",
    "\n",
    "# # Loading the data\n",
    "# df = pd.read_excel('Data.xlsx')"
   ]
  },
  {
   "cell_type": "markdown",
   "id": "d837ee6f-4316-4daa-9341-af0fa35e8a31",
   "metadata": {
    "jp-MarkdownHeadingCollapsed": true,
    "tags": []
   },
   "source": [
    "# Grouping multiple datasets"
   ]
  },
  {
   "cell_type": "code",
   "execution_count": 2,
   "id": "246eedec-8917-45ae-b947-cf987766344d",
   "metadata": {},
   "outputs": [],
   "source": [
    "# Let's load the train and test csv files from Kaggle folder and tsv files from the LIAR folder\n",
    "kaggle_data = pd.read_csv('Datasets used/Kaggle dataset/train.csv')\n",
    "\n",
    "\n",
    "# Let's load the train and test tsv files from LIAR folder\n",
    "liar_test = pd.read_csv('Datasets used/LIAR dataset/test.tsv', delimiter='\\t')\n",
    "liar_train = pd.read_csv('Datasets used/LIAR dataset/train.tsv', delimiter='\\t')\n",
    "previous_data = pd.read_excel('Datasets used/Fake news challenge/Data.xlsx')\n",
    "previous_data.columns = ['title','label']"
   ]
  },
  {
   "cell_type": "code",
   "execution_count": 3,
   "id": "2eba1cbf-f803-4751-8a37-c07665f92e91",
   "metadata": {},
   "outputs": [],
   "source": [
    "# Extracting title and labels\n",
    "kaggle_data = kaggle_data[['title','label']]\n",
    "\n",
    "liar_train = liar_train[['Says the Annies List political group supports third-trimester abortions on demand.','false']]\n",
    "liar_train.columns = ['title','label']\n",
    "\n",
    "liar_test = liar_test[['Building a wall on the U.S.-Mexico border will take literally years.','true']]\n",
    "liar_test.columns = ['title','label']"
   ]
  },
  {
   "cell_type": "code",
   "execution_count": 4,
   "id": "009ee104-ce08-4b42-827a-cb1295647d15",
   "metadata": {},
   "outputs": [],
   "source": [
    "# Extracting only extreme labels\n",
    "liar_train = liar_train[(liar_train['label'] == 'false') | (liar_train['label'] == 'true') | (liar_train['label'] == 'pants-fire')]\n",
    "liar_test = liar_test[(liar_test['label'] == 'false') | (liar_test['label'] == 'true') | (liar_test['label'] == 'pants-fire')]"
   ]
  },
  {
   "cell_type": "code",
   "execution_count": 5,
   "id": "6faa13cc-2892-4e4b-983e-17a1f79495fa",
   "metadata": {},
   "outputs": [],
   "source": [
    "# Replacing pants fire with false\n",
    "liar_train['label'] = liar_train['label'].replace({'pants-fire':'false'})\n",
    "liar_test['label'] = liar_test['label'].replace({'pants-fire':'false'})"
   ]
  },
  {
   "cell_type": "code",
   "execution_count": 6,
   "id": "981f0f58-5fe6-4cfa-b905-5433b057138a",
   "metadata": {},
   "outputs": [],
   "source": [
    "# Combining all the datasets \n",
    "df = pd.concat([kaggle_data,liar_train,liar_test,previous_data],axis=0)\n",
    "\n",
    "# Dropping any duplicates\n",
    "df.drop_duplicates(inplace=True)"
   ]
  },
  {
   "cell_type": "code",
   "execution_count": 7,
   "id": "0cfc0466-769b-4557-aa42-8a50ab294af6",
   "metadata": {},
   "outputs": [],
   "source": [
    "# Storing the file \n",
    "df.to_excel('Data.xlsx', index=False)"
   ]
  },
  {
   "cell_type": "markdown",
   "id": "f52faf32-20e9-4eb9-8711-206020c83dc7",
   "metadata": {
    "jp-MarkdownHeadingCollapsed": true,
    "tags": []
   },
   "source": [
    "# Exploratory data analysis"
   ]
  },
  {
   "cell_type": "code",
   "execution_count": 8,
   "id": "73bed8b0-e28a-472d-bd88-86ac075ff14d",
   "metadata": {},
   "outputs": [
    {
     "data": {
      "text/plain": [
       "(46696, 2)"
      ]
     },
     "execution_count": 8,
     "metadata": {},
     "output_type": "execute_result"
    }
   ],
   "source": [
    "# Checking the shape of the dataframe\n",
    "df.shape"
   ]
  },
  {
   "cell_type": "code",
   "execution_count": 14,
   "id": "b233ed1e-0df2-4465-9652-60e0d0ed2468",
   "metadata": {},
   "outputs": [
    {
     "data": {
      "text/html": [
       "<div>\n",
       "<style scoped>\n",
       "    .dataframe tbody tr th:only-of-type {\n",
       "        vertical-align: middle;\n",
       "    }\n",
       "\n",
       "    .dataframe tbody tr th {\n",
       "        vertical-align: top;\n",
       "    }\n",
       "\n",
       "    .dataframe thead th {\n",
       "        text-align: right;\n",
       "    }\n",
       "</style>\n",
       "<table border=\"1\" class=\"dataframe\">\n",
       "  <thead>\n",
       "    <tr style=\"text-align: right;\">\n",
       "      <th></th>\n",
       "      <th>title</th>\n",
       "      <th>label</th>\n",
       "    </tr>\n",
       "  </thead>\n",
       "  <tbody>\n",
       "    <tr>\n",
       "      <th>0</th>\n",
       "      <td>House Dem Aide: We Didn’t Even See Comey’s Let...</td>\n",
       "      <td>true</td>\n",
       "    </tr>\n",
       "    <tr>\n",
       "      <th>1</th>\n",
       "      <td>FLYNN: Hillary Clinton, Big Woman on Campus - ...</td>\n",
       "      <td>false</td>\n",
       "    </tr>\n",
       "    <tr>\n",
       "      <th>2</th>\n",
       "      <td>Why the Truth Might Get You Fired</td>\n",
       "      <td>true</td>\n",
       "    </tr>\n",
       "    <tr>\n",
       "      <th>3</th>\n",
       "      <td>15 Civilians Killed In Single US Airstrike Hav...</td>\n",
       "      <td>true</td>\n",
       "    </tr>\n",
       "    <tr>\n",
       "      <th>4</th>\n",
       "      <td>Iranian woman jailed for fictional unpublished...</td>\n",
       "      <td>true</td>\n",
       "    </tr>\n",
       "  </tbody>\n",
       "</table>\n",
       "</div>"
      ],
      "text/plain": [
       "                                               title  label\n",
       "0  House Dem Aide: We Didn’t Even See Comey’s Let...   true\n",
       "1  FLYNN: Hillary Clinton, Big Woman on Campus - ...  false\n",
       "2                  Why the Truth Might Get You Fired   true\n",
       "3  15 Civilians Killed In Single US Airstrike Hav...   true\n",
       "4  Iranian woman jailed for fictional unpublished...   true"
      ]
     },
     "execution_count": 14,
     "metadata": {},
     "output_type": "execute_result"
    }
   ],
   "source": [
    "# Checking first 5 rows of the dataframe\n",
    "df.head(5)"
   ]
  },
  {
   "cell_type": "markdown",
   "id": "406249db-6d15-47e1-907a-dcfa3d379108",
   "metadata": {},
   "source": [
    "Since we have combined multiple datasets thus in every dataset the names of labels could be different."
   ]
  },
  {
   "cell_type": "code",
   "execution_count": 12,
   "id": "f1aa4f18-b19a-4eaf-bf03-20fbc609a98c",
   "metadata": {},
   "outputs": [],
   "source": [
    "# Replacing 1 with true and 0 with false\n",
    "df['label'] = df['label'].replace({1: 'true', 0: 'false'})"
   ]
  },
  {
   "cell_type": "code",
   "execution_count": 15,
   "id": "a1c11465-cab5-4ffb-a9c4-8b0678da1cf7",
   "metadata": {},
   "outputs": [
    {
     "name": "stdout",
     "output_type": "stream",
     "text": [
      "<class 'pandas.core.frame.DataFrame'>\n",
      "Int64Index: 46696 entries, 0 to 43994\n",
      "Data columns (total 2 columns):\n",
      " #   Column  Non-Null Count  Dtype \n",
      "---  ------  --------------  ----- \n",
      " 0   title   46695 non-null  object\n",
      " 1   label   46696 non-null  object\n",
      "dtypes: object(2)\n",
      "memory usage: 1.1+ MB\n"
     ]
    }
   ],
   "source": [
    "# Let's check the datatype of the features\n",
    "df.info()"
   ]
  },
  {
   "cell_type": "code",
   "execution_count": 16,
   "id": "80600d5a-bf55-4b92-b2bb-28c2bd29fb19",
   "metadata": {},
   "outputs": [
    {
     "data": {
      "text/plain": [
       "title    0.002142\n",
       "label    0.000000\n",
       "dtype: float64"
      ]
     },
     "execution_count": 16,
     "metadata": {},
     "output_type": "execute_result"
    }
   ],
   "source": [
    "# Checking any null values\n",
    "df.isnull().mean()*100"
   ]
  },
  {
   "cell_type": "code",
   "execution_count": 17,
   "id": "14d333c0-6193-49bb-8176-370852bdb9ea",
   "metadata": {},
   "outputs": [
    {
     "data": {
      "text/plain": [
       "0"
      ]
     },
     "execution_count": 17,
     "metadata": {},
     "output_type": "execute_result"
    }
   ],
   "source": [
    "# Checking any duplicated values\n",
    "df.duplicated().sum()"
   ]
  },
  {
   "cell_type": "code",
   "execution_count": 19,
   "id": "05433b7a-ccfe-46f0-8320-87420cb0b080",
   "metadata": {},
   "outputs": [
    {
     "data": {
      "text/plain": [
       "<AxesSubplot:ylabel='label'>"
      ]
     },
     "execution_count": 19,
     "metadata": {},
     "output_type": "execute_result"
    },
    {
     "data": {
      "image/png": "[encoded data removed]",
      "text/plain": [
       "<Figure size 432x288 with 1 Axes>"
      ]
     },
     "metadata": {},
     "output_type": "display_data"
    }
   ],
   "source": [
    "# Let's check distribution of data across both classes in the target variable\n",
    "ex = (0.05, 0)\n",
    "df['label'].value_counts().plot(kind='pie',autopct='%.2f',explode= ex)"
   ]
  },
  {
   "cell_type": "markdown",
   "id": "03162e9d-4ddc-4f2c-9769-292653a92b7f",
   "metadata": {
    "jp-MarkdownHeadingCollapsed": true,
    "tags": []
   },
   "source": [
    "# Data cleaning \n",
    "\n",
    "- Handling missing values\n",
    "- Lowercasing\n",
    "- Punctuation removal\n",
    "- Stop word removal\n",
    "- Spelling check\n",
    "- Stemming/lemmatization\n",
    "\n",
    "Since title is a feature having long sentences in it, thus the imputation techniques will be little modified.\n",
    "\n",
    "1. Fill missing values with a placeholder: One simple approach is to fill the missing values with a placeholder such as NA or missing. This approach can be useful if you want to retain the structure of the original text data and still be able to identify the missing values. However, it's important to ensure that the placeholder does not occur naturally in the text data.\n",
    "\n",
    "2. Impute missing values using statistical techniques: You can use statistical techniques such as mean or mode imputation to fill in missing values. For example, you could compute the average length of the sentences in the feature and use this value to fill in the missing values.\n",
    "\n",
    "3. Impute missing values using machine learning models: You can use machine learning models such as regression or clustering to impute missing values based on the patterns in the other features. For example, you could train a regression model to predict the length of the sentences in the feature based on the values in other features, and then use this model to impute missing values.\n",
    "\n",
    "4. Use natural language processing techniques: You can use natural language processing techniques such as language models or topic models to impute missing values based on the context of the text data. For example, you could use a language model to generate plausible sentences that fit the context of the text data and use these sentences to fill in the missing values."
   ]
  },
  {
   "cell_type": "code",
   "execution_count": null,
   "id": "7566218b-0089-491d-a7f0-05f52cb23f23",
   "metadata": {},
   "outputs": [],
   "source": [
    "# Since title have some null values in it so we will simply remove them\n"
   ]
  },
  {
   "cell_type": "code",
   "execution_count": 9,
   "id": "3e800ec5-b985-4772-ac48-0f2feb75500d",
   "metadata": {},
   "outputs": [],
   "source": [
    "# Let's remove duplicated values form the dataframe\n",
    "df.drop_duplicates(inplace=True)\n",
    "\n",
    "# Removing the missing titles\n",
    "df.dropna(inplace=True)"
   ]
  },
  {
   "cell_type": "code",
   "execution_count": 11,
   "id": "4790aa40-11d2-480c-80e7-acb821a92ae3",
   "metadata": {},
   "outputs": [],
   "source": [
    "# let's crete an object of WordNetLemmatizer class for doing lemmatization\n",
    "lemm = WordNetLemmatizer()\n",
    "\n",
    "# Empty list to store the clean title\n",
    "cleaned_data = []\n",
    "for i in df['title']:\n",
    "    cleaned_title = re.sub('[^a-zA-Z]',' ',str(i)) # Removal of punctuations\n",
    "    cleaned_title = cleaned_title.split() # Tokenization\n",
    "    \n",
    "    # create a set of country names using the pycountry library\n",
    "    countries = set([country.name.lower() for country in pycountry.countries])\n",
    "    \n",
    "    cleaned_title = [word.lower() if word.lower() not in countries else word for word in cleaned_title] # lowering the words except country names\n",
    "    \n",
    "    # Stopword removal and lemmatizatoin\n",
    "    cleaned_title = [lemm.lemmatize(word) for word in cleaned_title if not word in stopwords.words('english')]\n",
    "    cleaned_title = ' '.join(cleaned_title)\n",
    "    cleaned_data.append(cleaned_title)"
   ]
  },
  {
   "cell_type": "code",
   "execution_count": 14,
   "id": "02ec858c-cf2a-4a21-be7e-471a6198905c",
   "metadata": {},
   "outputs": [],
   "source": [
    "# Let's now format the data for the Word2Vec Model\n",
    "cleaned_Data = []\n",
    "for text in cleaned_data:\n",
    "    cleaned_Data.append(simple_preprocess(text))"
   ]
  },
  {
   "cell_type": "markdown",
   "id": "e9a49803-5522-463f-9ea1-547f7ec5c30f",
   "metadata": {
    "jp-MarkdownHeadingCollapsed": true,
    "tags": []
   },
   "source": [
    "# Creating word embeddings"
   ]
  },
  {
   "cell_type": "code",
   "execution_count": 16,
   "id": "08431fae-3420-4900-914e-4a908c815281",
   "metadata": {},
   "outputs": [],
   "source": [
    "# create a Word2Vec model and build the vocabulary\n",
    "model = Word2Vec(window=5, min_count=1, workers=4)\n",
    "model.build_vocab(cleaned_Data)"
   ]
  },
  {
   "cell_type": "code",
   "execution_count": 17,
   "id": "1a91f646-989c-4526-ab95-4ab28438d8af",
   "metadata": {},
   "outputs": [
    {
     "data": {
      "text/plain": [
       "(1618722, 1721905)"
      ]
     },
     "execution_count": 17,
     "metadata": {},
     "output_type": "execute_result"
    }
   ],
   "source": [
    "model.train(cleaned_Data, total_examples=model.corpus_count, epochs=model.epochs)"
   ]
  },
  {
   "cell_type": "code",
   "execution_count": 23,
   "id": "2f0a9b76-b12e-4b35-99c0-8410738eab27",
   "metadata": {},
   "outputs": [],
   "source": [
    "# Let's reduce the dimensions\n",
    "pca = PCA(n_components=3)"
   ]
  },
  {
   "cell_type": "code",
   "execution_count": 24,
   "id": "9db79057-94eb-4fc6-931f-e7e29cded7c7",
   "metadata": {},
   "outputs": [],
   "source": [
    "X = pca.fit_transform(model.wv.get_normed_vectors())"
   ]
  },
  {
   "cell_type": "markdown",
   "id": "1366daf9-3928-453b-b130-ef4898f6d897",
   "metadata": {
    "jp-MarkdownHeadingCollapsed": true,
    "tags": []
   },
   "source": [
    "# Model training"
   ]
  },
  {
   "cell_type": "markdown",
   "id": "5dd906d5-bc8d-4c59-8de7-184d68e44c6f",
   "metadata": {
    "jp-MarkdownHeadingCollapsed": true,
    "tags": []
   },
   "source": [
    "# Model evaluation"
   ]
  },
  {
   "cell_type": "code",
   "execution_count": null,
   "id": "95fc0a9c-ff6d-4554-8aad-daacf7114e5a",
   "metadata": {},
   "outputs": [],
   "source": []
  }
 ],
 "metadata": {
  "kernelspec": {
   "display_name": "Python 3 (ipykernel)",
   "language": "python",
   "name": "python3"
  },
  "language_info": {
   "codemirror_mode": {
    "name": "ipython",
    "version": 3
   },
   "file_extension": ".py",
   "mimetype": "text/x-python",
   "name": "python",
   "nbconvert_exporter": "python",
   "pygments_lexer": "ipython3",
   "version": "3.10.8"
  }
 },
 "nbformat": 4,
 "nbformat_minor": 5
}
