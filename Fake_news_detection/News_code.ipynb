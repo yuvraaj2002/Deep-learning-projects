{
 "cells": [
  {
   "cell_type": "markdown",
   "id": "2b5b6c82-8956-421b-8dd8-8890a3a59f72",
   "metadata": {
    "tags": []
   },
   "source": [
    "## Step 1: Importing the libararies"
   ]
  },
  {
   "cell_type": "code",
   "execution_count": 1,
   "id": "e9e74fe1-0c3e-4052-8276-ee1f13141e8c",
   "metadata": {
    "tags": []
   },
   "outputs": [
    {
     "name": "stderr",
     "output_type": "stream",
     "text": [
      "[nltk_data] Downloading package stopwords to\n",
      "[nltk_data]     C:\\Users\\ys723\\AppData\\Roaming\\nltk_data...\n",
      "[nltk_data]   Package stopwords is already up-to-date!\n",
      "[nltk_data] Downloading package wordnet to\n",
      "[nltk_data]     C:\\Users\\ys723\\AppData\\Roaming\\nltk_data...\n",
      "[nltk_data]   Package wordnet is already up-to-date!\n"
     ]
    }
   ],
   "source": [
    "import re\n",
    "import pandas as pd\n",
    "import numpy as np\n",
    "import seaborn as sns\n",
    "import matplotlib.pyplot as plt\n",
    "\n",
    "# For data cleaning\n",
    "import string\n",
    "import spacy\n",
    "import pycountry\n",
    "import nltk\n",
    "nltk.download('stopwords')\n",
    "from nltk.corpus import stopwords\n",
    "from nltk.stem import WordNetLemmatizer\n",
    "nltk.download('wordnet')\n",
    "\n",
    "# For creating a pipeline for doing data cleaning\n",
    "from sklearn.pipeline import Pipeline\n",
    "from sklearn.compose import ColumnTransformer\n",
    "from sklearn.preprocessing import FunctionTransformer\n",
    "from sklearn.model_selection import train_test_split\n",
    "\n",
    "# For creating our model\n",
    "from tensorflow.keras.layers import Embedding\n",
    "from tensorflow.keras.preprocessing.sequence import pad_sequences\n",
    "from tensorflow.keras.models import Sequential\n",
    "from tensorflow.keras.preprocessing.text import one_hot\n",
    "from tensorflow.keras.layers import LSTM\n",
    "from tensorflow.keras.layers import Dense\n",
    "from tensorflow.keras.layers import Dropout\n",
    "from keras.callbacks import EarlyStopping\n",
    "import pickle"
   ]
  },
  {
   "cell_type": "markdown",
   "id": "d837ee6f-4316-4daa-9341-af0fa35e8a31",
   "metadata": {
    "tags": []
   },
   "source": [
    "## Step 2:Grouping multiple datasets\n",
    "\n",
    "Since we are using multiple datasets for our dataset, thus we will only take 2 columns from all 3 datasets. These 2 columns will be title and label. Finally after taking these 2 columns from all the datasets we will concatinate all 3 datasets together to get our final dataset."
   ]
  },
  {
   "cell_type": "code",
   "execution_count": 2,
   "id": "246eedec-8917-45ae-b947-cf987766344d",
   "metadata": {},
   "outputs": [],
   "source": [
    "# Let's load the train and test csv files from Kaggle folder and tsv files from the LIAR folder\n",
    "kaggle_data = pd.read_csv('Datasets used/Kaggle dataset/train.csv')\n",
    "\n",
    "\n",
    "# Let's load the train and test tsv files from LIAR folder\n",
    "liar_test = pd.read_csv('Datasets used/LIAR dataset/test.tsv', delimiter='\\t')\n",
    "liar_train = pd.read_csv('Datasets used/LIAR dataset/train.tsv', delimiter='\\t')\n",
    "previous_data = pd.read_excel('Datasets used/Fake news challenge/Data.xlsx')\n",
    "previous_data.columns = ['title','label']"
   ]
  },
  {
   "cell_type": "code",
   "execution_count": 3,
   "id": "2eba1cbf-f803-4751-8a37-c07665f92e91",
   "metadata": {},
   "outputs": [],
   "source": [
    "# Extracting title and labels\n",
    "kaggle_data = kaggle_data[['title','label']]\n",
    "\n",
    "liar_train = liar_train[['Says the Annies List political group supports third-trimester abortions on demand.','false']]\n",
    "liar_train.columns = ['title','label']\n",
    "\n",
    "liar_test = liar_test[['Building a wall on the U.S.-Mexico border will take literally years.','true']]\n",
    "liar_test.columns = ['title','label']"
   ]
  },
  {
   "cell_type": "code",
   "execution_count": 4,
   "id": "009ee104-ce08-4b42-827a-cb1295647d15",
   "metadata": {},
   "outputs": [],
   "source": [
    "# Extracting only extreme labels\n",
    "liar_train = liar_train[(liar_train['label'] == 'false') | (liar_train['label'] == 'true') | (liar_train['label'] == 'pants-fire')]\n",
    "liar_test = liar_test[(liar_test['label'] == 'false') | (liar_test['label'] == 'true') | (liar_test['label'] == 'pants-fire')]"
   ]
  },
  {
   "cell_type": "code",
   "execution_count": 5,
   "id": "6faa13cc-2892-4e4b-983e-17a1f79495fa",
   "metadata": {},
   "outputs": [],
   "source": [
    "# Replacing pants pants-fire with false\n",
    "liar_train['label'] = liar_train['label'].replace({'pants-fire':'false'})\n",
    "liar_test['label'] = liar_test['label'].replace({'pants-fire':'false'})"
   ]
  },
  {
   "cell_type": "code",
   "execution_count": 6,
   "id": "981f0f58-5fe6-4cfa-b905-5433b057138a",
   "metadata": {},
   "outputs": [],
   "source": [
    "# Combining all the datasets \n",
    "df = pd.concat([kaggle_data,liar_train,liar_test,previous_data],axis=0)\n",
    "\n",
    "# Dropping any duplicates\n",
    "df.drop_duplicates(inplace=True)"
   ]
  },
  {
   "cell_type": "code",
   "execution_count": 4,
   "id": "0cfc0466-769b-4557-aa42-8a50ab294af6",
   "metadata": {},
   "outputs": [],
   "source": [
    "# Storing the file \n",
    "df.to_excel('Data.xlsx', index=False)"
   ]
  },
  {
   "cell_type": "markdown",
   "id": "f52faf32-20e9-4eb9-8711-206020c83dc7",
   "metadata": {
    "tags": []
   },
   "source": [
    "## Step 3:Exploratory data analysis\n",
    "\n",
    "After concatinating all 3 datasets together our next step would be to simply explore our data so that we could get better understading of the hidden patterns within our data, which will further help us immensely during the data cleaning."
   ]
  },
  {
   "cell_type": "code",
   "execution_count": 2,
   "id": "a01386a6-5ff4-4f1d-8477-d94dc7049e53",
   "metadata": {
    "tags": []
   },
   "outputs": [],
   "source": [
    "# Let's load the combined dataset\n",
    "df = pd.read_excel('Data.xlsx')"
   ]
  },
  {
   "cell_type": "code",
   "execution_count": 3,
   "id": "73bed8b0-e28a-472d-bd88-86ac075ff14d",
   "metadata": {
    "tags": []
   },
   "outputs": [
    {
     "data": {
      "text/plain": [
       "(43996, 2)"
      ]
     },
     "execution_count": 3,
     "metadata": {},
     "output_type": "execute_result"
    }
   ],
   "source": [
    "# Checking the shape of the dataframe\n",
    "df.shape"
   ]
  },
  {
   "cell_type": "code",
   "execution_count": 4,
   "id": "b233ed1e-0df2-4465-9652-60e0d0ed2468",
   "metadata": {
    "tags": []
   },
   "outputs": [
    {
     "data": {
      "text/html": [
       "<div>\n",
       "<style scoped>\n",
       "    .dataframe tbody tr th:only-of-type {\n",
       "        vertical-align: middle;\n",
       "    }\n",
       "\n",
       "    .dataframe tbody tr th {\n",
       "        vertical-align: top;\n",
       "    }\n",
       "\n",
       "    .dataframe thead th {\n",
       "        text-align: right;\n",
       "    }\n",
       "</style>\n",
       "<table border=\"1\" class=\"dataframe\">\n",
       "  <thead>\n",
       "    <tr style=\"text-align: right;\">\n",
       "      <th></th>\n",
       "      <th>title</th>\n",
       "      <th>target</th>\n",
       "    </tr>\n",
       "  </thead>\n",
       "  <tbody>\n",
       "    <tr>\n",
       "      <th>0</th>\n",
       "      <td>Inside Ciara's Year of \"Life and Love\": Russel...</td>\n",
       "      <td>1</td>\n",
       "    </tr>\n",
       "    <tr>\n",
       "      <th>1</th>\n",
       "      <td>Prince Harry and Meghan Markle Relationship Ti...</td>\n",
       "      <td>1</td>\n",
       "    </tr>\n",
       "    <tr>\n",
       "      <th>2</th>\n",
       "      <td>Cate Blanchett &amp; Andrew Upton are fine… after ...</td>\n",
       "      <td>0</td>\n",
       "    </tr>\n",
       "    <tr>\n",
       "      <th>3</th>\n",
       "      <td>Palestinian Factions Demand ‘Day of Rage’ Duri...</td>\n",
       "      <td>0</td>\n",
       "    </tr>\n",
       "    <tr>\n",
       "      <th>4</th>\n",
       "      <td>Denis O’Brien Announces Bid For Irish Presidency</td>\n",
       "      <td>1</td>\n",
       "    </tr>\n",
       "  </tbody>\n",
       "</table>\n",
       "</div>"
      ],
      "text/plain": [
       "                                               title  target\n",
       "0  Inside Ciara's Year of \"Life and Love\": Russel...       1\n",
       "1  Prince Harry and Meghan Markle Relationship Ti...       1\n",
       "2  Cate Blanchett & Andrew Upton are fine… after ...       0\n",
       "3  Palestinian Factions Demand ‘Day of Rage’ Duri...       0\n",
       "4   Denis O’Brien Announces Bid For Irish Presidency       1"
      ]
     },
     "execution_count": 4,
     "metadata": {},
     "output_type": "execute_result"
    }
   ],
   "source": [
    "# Checking first 5 rows of the dataframe\n",
    "df.head(5)"
   ]
  },
  {
   "cell_type": "markdown",
   "id": "f59996c9-22c0-4d4c-b932-f44d4aff73ff",
   "metadata": {},
   "source": [
    "1: 'true', 0: 'false'"
   ]
  },
  {
   "cell_type": "code",
   "execution_count": 5,
   "id": "a1c11465-cab5-4ffb-a9c4-8b0678da1cf7",
   "metadata": {
    "tags": []
   },
   "outputs": [
    {
     "name": "stdout",
     "output_type": "stream",
     "text": [
      "<class 'pandas.core.frame.DataFrame'>\n",
      "RangeIndex: 43996 entries, 0 to 43995\n",
      "Data columns (total 2 columns):\n",
      " #   Column  Non-Null Count  Dtype \n",
      "---  ------  --------------  ----- \n",
      " 0   title   43438 non-null  object\n",
      " 1   target  43996 non-null  int64 \n",
      "dtypes: int64(1), object(1)\n",
      "memory usage: 687.6+ KB\n"
     ]
    }
   ],
   "source": [
    "# Let's check the datatype of the features\n",
    "df.info()"
   ]
  },
  {
   "cell_type": "code",
   "execution_count": 6,
   "id": "80600d5a-bf55-4b92-b2bb-28c2bd29fb19",
   "metadata": {
    "tags": []
   },
   "outputs": [
    {
     "data": {
      "text/plain": [
       "title     1.268297\n",
       "target    0.000000\n",
       "dtype: float64"
      ]
     },
     "execution_count": 6,
     "metadata": {},
     "output_type": "execute_result"
    }
   ],
   "source": [
    "# Checking any null values\n",
    "df.isnull().mean()*100"
   ]
  },
  {
   "cell_type": "code",
   "execution_count": 7,
   "id": "14d333c0-6193-49bb-8176-370852bdb9ea",
   "metadata": {
    "tags": []
   },
   "outputs": [
    {
     "data": {
      "text/plain": [
       "2345"
      ]
     },
     "execution_count": 7,
     "metadata": {},
     "output_type": "execute_result"
    }
   ],
   "source": [
    "# Checking any duplicated values\n",
    "df.duplicated().sum()"
   ]
  },
  {
   "cell_type": "code",
   "execution_count": 8,
   "id": "05433b7a-ccfe-46f0-8320-87420cb0b080",
   "metadata": {
    "tags": []
   },
   "outputs": [
    {
     "data": {
      "image/png": "[encoded data removed]",
      "text/plain": [
       "<Figure size 1200x300 with 2 Axes>"
      ]
     },
     "metadata": {},
     "output_type": "display_data"
    }
   ],
   "source": [
    "# Let's check distribution of data across both classes in the target variable using pie chart and bar plot\n",
    "fig,ax = plt.subplots(1,2,figsize=(12,3))\n",
    "ex = (0.05, 0)\n",
    "\n",
    "df['target'].value_counts().plot(kind='pie',autopct='%.2f',explode= ex, ax=ax[0])\n",
    "sns.countplot(x='target', data=df,width=0.3, ax=ax[1])\n",
    "\n",
    "plt.subplots_adjust(wspace=0.2)\n",
    "plt.show()"
   ]
  },
  {
   "cell_type": "markdown",
   "id": "710fbb8b-35ec-4957-a22d-e70fe588dc99",
   "metadata": {},
   "source": [
    "Now after this initial exploratory data analysis, we will first do cleaning of our data, and then we will again do some more data analysis using some more advance techiques"
   ]
  },
  {
   "cell_type": "markdown",
   "id": "03162e9d-4ddc-4f2c-9769-292653a92b7f",
   "metadata": {
    "tags": []
   },
   "source": [
    "## Step 3: Data cleaning \n",
    "\n",
    "- Removal of punctuations\n",
    "- Tokenization\n",
    "- Lowercasing excluding country names\n",
    "- Stop word removal\n",
    "- Spelling check\n",
    "- Stemming/lemmatization\n",
    "\n",
    "\n",
    "\n",
    "The main difference between POS tagging and NER is that POS tags are attached to single words, while NER tags can be attached to multiple words [1]. Additionally, POS tagging is focused on identifying the part of speech of a single word, while NER is focused on identifying entities within the text, such as people, places, organizations, and events. NER also involves not only detecting the type of Named Entity [1], but also segmenting the entity from the text."
   ]
  },
  {
   "cell_type": "code",
   "execution_count": 9,
   "id": "7566218b-0089-491d-a7f0-05f52cb23f23",
   "metadata": {
    "tags": []
   },
   "outputs": [],
   "source": [
    "# Since title have some null values in it so we will simply remove them\n",
    "df.dropna(inplace=True)"
   ]
  },
  {
   "cell_type": "code",
   "execution_count": 10,
   "id": "abd9b504-deae-4e01-a38d-3c423818154b",
   "metadata": {
    "tags": []
   },
   "outputs": [],
   "source": [
    "# Let's now create methods for doing data clearning\n",
    "\n",
    "# Method for removing punctuation\n",
    "def remove_punctuations(text):\n",
    "    clean_text = [alphabet for alphabet in text if alphabet not in string.punctuation]\n",
    "    clean_text = ''.join(clean_text)\n",
    "    return clean_text\n",
    "\n",
    "# Method for lowercasing words except the country names\n",
    "country_names = set([country.name for country in pycountry.countries])\n",
    "def lower_case(text):\n",
    "    tokens_word = text.split()\n",
    "    low = [word.lower() if word not in country_names else word for word in tokens_word]\n",
    "    low = ' '.join(low)\n",
    "    return low\n",
    "\n",
    "# Method for removal of stop words\n",
    "stop_words = set(stopwords.words('english'))\n",
    "def remove_stopwords(text):\n",
    "    tokens_word = text.split()\n",
    "    no_stop = [word for word in tokens_word if word not in stop_words]\n",
    "    no_stop = ' '.join(no_stop)\n",
    "    return no_stop\n",
    "\n",
    "# Method for doing lemmatization\n",
    "lemm = WordNetLemmatizer()\n",
    "def lemmatize(text):\n",
    "    tokens_word = text.split()\n",
    "    lemm_word = [lemm.lemmatize(word) for word in tokens_word]\n",
    "    lemm_word = ' '.join(lemm_word)\n",
    "    return lemm_word"
   ]
  },
  {
   "cell_type": "code",
   "execution_count": 11,
   "id": "1aaf1b2a-a4cc-4b06-95f7-9817e9115401",
   "metadata": {
    "tags": []
   },
   "outputs": [],
   "source": [
    "def title_prep(text):\n",
    "    cleaned_text = remove_punctuations(text)\n",
    "    cleaned_text = lower_case(cleaned_text)\n",
    "    cleaned_text = remove_stopwords(cleaned_text)\n",
    "    cleaned_text = lemmatize(cleaned_text)\n",
    "    return cleaned_text"
   ]
  },
  {
   "cell_type": "code",
   "execution_count": 12,
   "id": "266065ca-c57b-4c30-bead-4c5213d6e1a5",
   "metadata": {
    "tags": []
   },
   "outputs": [],
   "source": [
    "X_title_transformed = df['title'].apply(title_prep)\n",
    "df['new_title'] = X_title_transformed\n",
    "\n",
    "# Dropping the title column\n",
    "df.drop(['title'],axis = 1,inplace=True)"
   ]
  },
  {
   "cell_type": "markdown",
   "id": "469646ee-2d68-4645-86cc-7f4ef010f845",
   "metadata": {},
   "source": [
    "After cleaning the data our next step would be to create embeddings"
   ]
  },
  {
   "cell_type": "code",
   "execution_count": 26,
   "id": "7ff07b80-6c9f-4e6a-bde0-876489b9c98f",
   "metadata": {
    "tags": []
   },
   "outputs": [],
   "source": [
    "# Transformer to remove punctuations, lowercase the words, remove stop words and lemmatize\n",
    "clean_data = ColumnTransformer(transformers = [('Remove_punc',FunctionTransformer(remove_punctuations),[1]),\n",
    "                                               ('Lower_case',FunctionTransformer(lower_case),[1]),\n",
    "                                               ('Remove_stop',FunctionTransformer(remove_stopwords),[1]),\n",
    "                                               ('Lemmatize',FunctionTransformer(lemmatize),[1])],remainder='passthrough')\n",
    "\n",
    "# define the final pipeline\n",
    "pipe = Pipeline(steps=[('Clean_Data',clean_data)])"
   ]
  },
  {
   "cell_type": "code",
   "execution_count": 24,
   "id": "89d83999-1b4b-4882-a96d-5e6399992f86",
   "metadata": {
    "tags": []
   },
   "outputs": [],
   "source": [
    "# Seperating the data into dependent and independent variable\n",
    "X = df.drop(['target'],axis=1)\n",
    "y = df['target']\n",
    "\n",
    "# Let's split the data into train,test and validation\n",
    "X_train, X_test, y_train, y_test = train_test_split(X, y, test_size=0.2, random_state=42)\n",
    "X_train, X_val, y_train, y_val = train_test_split(X_train, y_train, test_size=0.25, random_state=42)"
   ]
  },
  {
   "cell_type": "markdown",
   "id": "e9a49803-5522-463f-9ea1-547f7ec5c30f",
   "metadata": {
    "tags": []
   },
   "source": [
    "# Creating word embeddings and training the model"
   ]
  },
  {
   "cell_type": "code",
   "execution_count": 13,
   "id": "3e5acaa2-47f2-40ba-b085-4f6d40051d21",
   "metadata": {
    "tags": []
   },
   "outputs": [],
   "source": [
    "corpus = df['new_title'].values\n",
    "voc_size = 10000\n",
    "onehot_repr=[one_hot(words,voc_size)for words in corpus] "
   ]
  },
  {
   "cell_type": "code",
   "execution_count": 14,
   "id": "74e67edc-6663-408a-b2e0-ae796aab0428",
   "metadata": {
    "tags": []
   },
   "outputs": [],
   "source": [
    "sent_length = 30\n",
    "embedded_docs=pad_sequences(onehot_repr,padding='pre',maxlen=sent_length)"
   ]
  },
  {
   "cell_type": "code",
   "execution_count": 15,
   "id": "8e4935fd-2c8b-454e-b140-c3a6512895d4",
   "metadata": {
    "tags": []
   },
   "outputs": [
    {
     "name": "stdout",
     "output_type": "stream",
     "text": [
      "Model: \"sequential\"\n",
      "_________________________________________________________________\n",
      " Layer (type)                Output Shape              Param #   \n",
      "=================================================================\n",
      " embedding (Embedding)       (None, 30, 40)            400000    \n",
      "                                                                 \n",
      " dropout (Dropout)           (None, 30, 40)            0         \n",
      "                                                                 \n",
      " lstm (LSTM)                 (None, 100)               56400     \n",
      "                                                                 \n",
      " dropout_1 (Dropout)         (None, 100)               0         \n",
      "                                                                 \n",
      " dense (Dense)               (None, 1)                 101       \n",
      "                                                                 \n",
      "=================================================================\n",
      "Total params: 456,501\n",
      "Trainable params: 456,501\n",
      "Non-trainable params: 0\n",
      "_________________________________________________________________\n",
      "None\n"
     ]
    }
   ],
   "source": [
    "# Creating model\n",
    "embedding_vector_features=40\n",
    "model=Sequential()\n",
    "model.add(Embedding(voc_size,embedding_vector_features,input_length=sent_length))\n",
    "model.add(Dropout(0.3))\n",
    "model.add(LSTM(100))\n",
    "model.add(Dropout(0.3))\n",
    "model.add(Dense(1,activation='sigmoid'))\n",
    "model.compile(loss='binary_crossentropy',optimizer='adam',metrics=['accuracy'])\n",
    "\n",
    "# Compiling the model\n",
    "model.compile(loss='binary_crossentropy',optimizer='adam',metrics=['accuracy'])\n",
    "print(model.summary())"
   ]
  },
  {
   "cell_type": "code",
   "execution_count": 16,
   "id": "04bd000a-4f9d-44bd-89f2-31031f80b435",
   "metadata": {
    "tags": []
   },
   "outputs": [],
   "source": [
    "# Seperating the data into dependent and independent variables\n",
    "X = np.array(embedded_docs)\n",
    "y = np.array(df['target'])\n",
    "\n",
    "# Let's do train test split\n",
    "X_train, X_test, y_train, y_test = train_test_split(X, y, test_size=0.33, random_state=42)"
   ]
  },
  {
   "cell_type": "code",
   "execution_count": 17,
   "id": "a0a6db7b-acc6-4539-aba1-7b721449d189",
   "metadata": {
    "tags": []
   },
   "outputs": [
    {
     "name": "stdout",
     "output_type": "stream",
     "text": [
      "Epoch 1/20\n",
      "455/455 [==============================] - 21s 24ms/step - loss: 0.3833 - accuracy: 0.8326 - val_loss: 0.3244 - val_accuracy: 0.8628\n",
      "Epoch 2/20\n",
      "455/455 [==============================] - 10s 23ms/step - loss: 0.2685 - accuracy: 0.8897 - val_loss: 0.3197 - val_accuracy: 0.8652\n",
      "Epoch 3/20\n",
      "455/455 [==============================] - 10s 22ms/step - loss: 0.2336 - accuracy: 0.9028 - val_loss: 0.3432 - val_accuracy: 0.8493\n",
      "Epoch 4/20\n",
      "455/455 [==============================] - 9s 19ms/step - loss: 0.2052 - accuracy: 0.9158 - val_loss: 0.3559 - val_accuracy: 0.8557\n",
      "Epoch 5/20\n",
      "455/455 [==============================] - 10s 22ms/step - loss: 0.1759 - accuracy: 0.9287 - val_loss: 0.3873 - val_accuracy: 0.8491\n",
      "Epoch 6/20\n",
      "455/455 [==============================] - 10s 22ms/step - loss: 0.1509 - accuracy: 0.9400 - val_loss: 0.4379 - val_accuracy: 0.8497\n",
      "Epoch 7/20\n",
      "455/455 [==============================] - 10s 21ms/step - loss: 0.1282 - accuracy: 0.9512 - val_loss: 0.4761 - val_accuracy: 0.8471\n",
      "Epoch 7: early stopping\n"
     ]
    }
   ],
   "source": [
    "# Define early stopping callback\n",
    "early_stop = EarlyStopping(monitor='val_loss', patience=5, verbose=1)\n",
    "\n",
    "# Train the model with early stopping callback\n",
    "history = model.fit(X_train, y_train, epochs=20, batch_size=64, validation_data=(X_test, y_test), callbacks=[early_stop])"
   ]
  },
  {
   "cell_type": "code",
   "execution_count": 18,
   "id": "4a5a110c-ac93-4430-8a9b-eb0746060ea4",
   "metadata": {
    "tags": []
   },
   "outputs": [
    {
     "data": {
      "image/png": "[encoded data removed]",
      "text/plain": [
       "<Figure size 640x480 with 1 Axes>"
      ]
     },
     "metadata": {},
     "output_type": "display_data"
    }
   ],
   "source": [
    "# Plotting the accuracy and validation accuracy\n",
    "plt.plot(history.history['accuracy'])\n",
    "plt.plot(history.history['val_accuracy'])\n",
    "plt.title('Model Accuracy')\n",
    "plt.xlabel('Epoch')\n",
    "plt.ylabel('Accuracy')\n",
    "plt.legend(['train', 'validation'], loc='upper left')\n",
    "plt.show()"
   ]
  },
  {
   "cell_type": "code",
   "execution_count": 20,
   "id": "9ab43e23-6329-42e4-86ec-739825dbb9f0",
   "metadata": {
    "tags": []
   },
   "outputs": [
    {
     "name": "stderr",
     "output_type": "stream",
     "text": [
      "WARNING:absl:Found untraced functions such as lstm_cell_layer_call_fn, lstm_cell_layer_call_and_return_conditional_losses while saving (showing 2 of 2). These functions will not be directly callable after loading.\n"
     ]
    },
    {
     "name": "stdout",
     "output_type": "stream",
     "text": [
      "INFO:tensorflow:Assets written to: ram://50f10000-301b-4565-80c3-70ff5bcd7200/assets\n"
     ]
    },
    {
     "name": "stderr",
     "output_type": "stream",
     "text": [
      "INFO:tensorflow:Assets written to: ram://50f10000-301b-4565-80c3-70ff5bcd7200/assets\n"
     ]
    }
   ],
   "source": [
    "# Save the model as a file using pickle\n",
    "with open('model.pkl', 'wb') as f:\n",
    "    pickle.dump(model, f)"
   ]
  },
  {
   "cell_type": "code",
   "execution_count": null,
   "id": "e49d826b-c73b-4c97-9409-ffe1633fcc34",
   "metadata": {},
   "outputs": [],
   "source": []
  }
 ],
 "metadata": {
  "kernelspec": {
   "display_name": "text_data",
   "language": "python",
   "name": "text_data"
  },
  "language_info": {
   "codemirror_mode": {
    "name": "ipython",
    "version": 3
   },
   "file_extension": ".py",
   "mimetype": "text/x-python",
   "name": "python",
   "nbconvert_exporter": "python",
   "pygments_lexer": "ipython3",
   "version": "3.10.9"
  }
 },
 "nbformat": 4,
 "nbformat_minor": 5
}
