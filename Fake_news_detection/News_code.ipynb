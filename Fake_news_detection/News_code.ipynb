{
 "cells": [
  {
   "cell_type": "markdown",
   "id": "2b5b6c82-8956-421b-8dd8-8890a3a59f72",
   "metadata": {
    "tags": []
   },
   "source": [
    "## Step 1: Importing the libararies"
   ]
  },
  {
   "cell_type": "code",
   "execution_count": 1,
   "id": "e9e74fe1-0c3e-4052-8276-ee1f13141e8c",
   "metadata": {
    "tags": []
   },
   "outputs": [
    {
     "name": "stderr",
     "output_type": "stream",
     "text": [
      "[nltk_data] Downloading package stopwords to\n",
      "[nltk_data]     C:\\Users\\ys723\\AppData\\Roaming\\nltk_data...\n",
      "[nltk_data]   Package stopwords is already up-to-date!\n",
      "[nltk_data] Downloading package wordnet to\n",
      "[nltk_data]     C:\\Users\\ys723\\AppData\\Roaming\\nltk_data...\n",
      "[nltk_data]   Package wordnet is already up-to-date!\n"
     ]
    }
   ],
   "source": [
    "import re\n",
    "import pandas as pd\n",
    "import numpy as np\n",
    "import seaborn as sns\n",
    "import matplotlib.pyplot as plt\n",
    "\n",
    "# For data cleaning\n",
    "import string\n",
    "import spacy\n",
    "import pycountry\n",
    "import nltk\n",
    "nltk.download('stopwords')\n",
    "from nltk.corpus import stopwords\n",
    "from nltk.stem import WordNetLemmatizer\n",
    "nltk.download('wordnet')\n",
    "\n",
    "# For creating a pipeline for doing data cleaning\n",
    "from sklearn.pipeline import Pipeline\n",
    "from sklearn.compose import ColumnTransformer\n",
    "from sklearn.preprocessing import FunctionTransformer\n"
   ]
  },
  {
   "cell_type": "markdown",
   "id": "d837ee6f-4316-4daa-9341-af0fa35e8a31",
   "metadata": {
    "tags": []
   },
   "source": [
    "## Step 2:Grouping multiple datasets\n",
    "\n",
    "Since we are using multiple datasets for our dataset, thus we will only take 2 columns from all 3 datasets. These 2 columns will be title and label. Finally after taking these 2 columns from all the datasets we will concatinate all 3 datasets together to get our final dataset."
   ]
  },
  {
   "cell_type": "code",
   "execution_count": 2,
   "id": "246eedec-8917-45ae-b947-cf987766344d",
   "metadata": {},
   "outputs": [],
   "source": [
    "# Let's load the train and test csv files from Kaggle folder and tsv files from the LIAR folder\n",
    "kaggle_data = pd.read_csv('Datasets used/Kaggle dataset/train.csv')\n",
    "\n",
    "\n",
    "# Let's load the train and test tsv files from LIAR folder\n",
    "liar_test = pd.read_csv('Datasets used/LIAR dataset/test.tsv', delimiter='\\t')\n",
    "liar_train = pd.read_csv('Datasets used/LIAR dataset/train.tsv', delimiter='\\t')\n",
    "previous_data = pd.read_excel('Datasets used/Fake news challenge/Data.xlsx')\n",
    "previous_data.columns = ['title','label']"
   ]
  },
  {
   "cell_type": "code",
   "execution_count": 3,
   "id": "2eba1cbf-f803-4751-8a37-c07665f92e91",
   "metadata": {},
   "outputs": [],
   "source": [
    "# Extracting title and labels\n",
    "kaggle_data = kaggle_data[['title','label']]\n",
    "\n",
    "liar_train = liar_train[['Says the Annies List political group supports third-trimester abortions on demand.','false']]\n",
    "liar_train.columns = ['title','label']\n",
    "\n",
    "liar_test = liar_test[['Building a wall on the U.S.-Mexico border will take literally years.','true']]\n",
    "liar_test.columns = ['title','label']"
   ]
  },
  {
   "cell_type": "code",
   "execution_count": 4,
   "id": "009ee104-ce08-4b42-827a-cb1295647d15",
   "metadata": {},
   "outputs": [],
   "source": [
    "# Extracting only extreme labels\n",
    "liar_train = liar_train[(liar_train['label'] == 'false') | (liar_train['label'] == 'true') | (liar_train['label'] == 'pants-fire')]\n",
    "liar_test = liar_test[(liar_test['label'] == 'false') | (liar_test['label'] == 'true') | (liar_test['label'] == 'pants-fire')]"
   ]
  },
  {
   "cell_type": "code",
   "execution_count": 5,
   "id": "6faa13cc-2892-4e4b-983e-17a1f79495fa",
   "metadata": {},
   "outputs": [],
   "source": [
    "# Replacing pants pants-fire with false\n",
    "liar_train['label'] = liar_train['label'].replace({'pants-fire':'false'})\n",
    "liar_test['label'] = liar_test['label'].replace({'pants-fire':'false'})"
   ]
  },
  {
   "cell_type": "code",
   "execution_count": 6,
   "id": "981f0f58-5fe6-4cfa-b905-5433b057138a",
   "metadata": {},
   "outputs": [],
   "source": [
    "# Combining all the datasets \n",
    "df = pd.concat([kaggle_data,liar_train,liar_test,previous_data],axis=0)\n",
    "\n",
    "# Dropping any duplicates\n",
    "df.drop_duplicates(inplace=True)"
   ]
  },
  {
   "cell_type": "code",
   "execution_count": 7,
   "id": "0cfc0466-769b-4557-aa42-8a50ab294af6",
   "metadata": {},
   "outputs": [],
   "source": [
    "# Storing the file \n",
    "df.to_excel('Data.xlsx', index=False)"
   ]
  },
  {
   "cell_type": "markdown",
   "id": "f52faf32-20e9-4eb9-8711-206020c83dc7",
   "metadata": {
    "tags": []
   },
   "source": [
    "## Step 3:Exploratory data analysis\n",
    "\n",
    "After concatinating all 3 datasets together our next step would be to simply explore our data so that we could get better understading of the hidden patterns within our data, which will further help us immensely during the data cleaning."
   ]
  },
  {
   "cell_type": "code",
   "execution_count": 2,
   "id": "a01386a6-5ff4-4f1d-8477-d94dc7049e53",
   "metadata": {
    "tags": []
   },
   "outputs": [],
   "source": [
    "# Let's load the combined dataset\n",
    "df = pd.read_excel('Data.xlsx')"
   ]
  },
  {
   "cell_type": "code",
   "execution_count": 3,
   "id": "73bed8b0-e28a-472d-bd88-86ac075ff14d",
   "metadata": {
    "tags": []
   },
   "outputs": [
    {
     "data": {
      "text/plain": [
       "(43996, 2)"
      ]
     },
     "execution_count": 3,
     "metadata": {},
     "output_type": "execute_result"
    }
   ],
   "source": [
    "# Checking the shape of the dataframe\n",
    "df.shape"
   ]
  },
  {
   "cell_type": "code",
   "execution_count": 4,
   "id": "b233ed1e-0df2-4465-9652-60e0d0ed2468",
   "metadata": {
    "tags": []
   },
   "outputs": [
    {
     "data": {
      "text/html": [
       "<div>\n",
       "<style scoped>\n",
       "    .dataframe tbody tr th:only-of-type {\n",
       "        vertical-align: middle;\n",
       "    }\n",
       "\n",
       "    .dataframe tbody tr th {\n",
       "        vertical-align: top;\n",
       "    }\n",
       "\n",
       "    .dataframe thead th {\n",
       "        text-align: right;\n",
       "    }\n",
       "</style>\n",
       "<table border=\"1\" class=\"dataframe\">\n",
       "  <thead>\n",
       "    <tr style=\"text-align: right;\">\n",
       "      <th></th>\n",
       "      <th>title</th>\n",
       "      <th>target</th>\n",
       "    </tr>\n",
       "  </thead>\n",
       "  <tbody>\n",
       "    <tr>\n",
       "      <th>0</th>\n",
       "      <td>Inside Ciara's Year of \"Life and Love\": Russel...</td>\n",
       "      <td>1</td>\n",
       "    </tr>\n",
       "    <tr>\n",
       "      <th>1</th>\n",
       "      <td>Prince Harry and Meghan Markle Relationship Ti...</td>\n",
       "      <td>1</td>\n",
       "    </tr>\n",
       "    <tr>\n",
       "      <th>2</th>\n",
       "      <td>Cate Blanchett &amp; Andrew Upton are fine… after ...</td>\n",
       "      <td>0</td>\n",
       "    </tr>\n",
       "    <tr>\n",
       "      <th>3</th>\n",
       "      <td>Palestinian Factions Demand ‘Day of Rage’ Duri...</td>\n",
       "      <td>0</td>\n",
       "    </tr>\n",
       "    <tr>\n",
       "      <th>4</th>\n",
       "      <td>Denis O’Brien Announces Bid For Irish Presidency</td>\n",
       "      <td>1</td>\n",
       "    </tr>\n",
       "  </tbody>\n",
       "</table>\n",
       "</div>"
      ],
      "text/plain": [
       "                                               title  target\n",
       "0  Inside Ciara's Year of \"Life and Love\": Russel...       1\n",
       "1  Prince Harry and Meghan Markle Relationship Ti...       1\n",
       "2  Cate Blanchett & Andrew Upton are fine… after ...       0\n",
       "3  Palestinian Factions Demand ‘Day of Rage’ Duri...       0\n",
       "4   Denis O’Brien Announces Bid For Irish Presidency       1"
      ]
     },
     "execution_count": 4,
     "metadata": {},
     "output_type": "execute_result"
    }
   ],
   "source": [
    "# Checking first 5 rows of the dataframe\n",
    "df.head(5)"
   ]
  },
  {
   "cell_type": "code",
   "execution_count": 5,
   "id": "f1aa4f18-b19a-4eaf-bf03-20fbc609a98c",
   "metadata": {
    "tags": []
   },
   "outputs": [],
   "source": [
    "# Replacing 1 with true and 0 with false for better interpretibility\n",
    "df['target'] = df['target'].replace({1: 'true', 0: 'false'})"
   ]
  },
  {
   "cell_type": "code",
   "execution_count": 6,
   "id": "a1c11465-cab5-4ffb-a9c4-8b0678da1cf7",
   "metadata": {
    "tags": []
   },
   "outputs": [
    {
     "name": "stdout",
     "output_type": "stream",
     "text": [
      "<class 'pandas.core.frame.DataFrame'>\n",
      "RangeIndex: 43996 entries, 0 to 43995\n",
      "Data columns (total 2 columns):\n",
      " #   Column  Non-Null Count  Dtype \n",
      "---  ------  --------------  ----- \n",
      " 0   title   43438 non-null  object\n",
      " 1   target  43996 non-null  object\n",
      "dtypes: object(2)\n",
      "memory usage: 687.6+ KB\n"
     ]
    }
   ],
   "source": [
    "# Let's check the datatype of the features\n",
    "df.info()"
   ]
  },
  {
   "cell_type": "code",
   "execution_count": 7,
   "id": "80600d5a-bf55-4b92-b2bb-28c2bd29fb19",
   "metadata": {
    "tags": []
   },
   "outputs": [
    {
     "data": {
      "text/plain": [
       "title     1.268297\n",
       "target    0.000000\n",
       "dtype: float64"
      ]
     },
     "execution_count": 7,
     "metadata": {},
     "output_type": "execute_result"
    }
   ],
   "source": [
    "# Checking any null values\n",
    "df.isnull().mean()*100"
   ]
  },
  {
   "cell_type": "code",
   "execution_count": 8,
   "id": "14d333c0-6193-49bb-8176-370852bdb9ea",
   "metadata": {
    "tags": []
   },
   "outputs": [
    {
     "data": {
      "text/plain": [
       "2345"
      ]
     },
     "execution_count": 8,
     "metadata": {},
     "output_type": "execute_result"
    }
   ],
   "source": [
    "# Checking any duplicated values\n",
    "df.duplicated().sum()"
   ]
  },
  {
   "cell_type": "code",
   "execution_count": 9,
   "id": "05433b7a-ccfe-46f0-8320-87420cb0b080",
   "metadata": {
    "tags": []
   },
   "outputs": [
    {
     "data": {
      "image/png": "[encoded data removed]",
      "text/plain": [
       "<Figure size 1200x300 with 2 Axes>"
      ]
     },
     "metadata": {},
     "output_type": "display_data"
    }
   ],
   "source": [
    "# Let's check distribution of data across both classes in the target variable using pie chart and bar plot\n",
    "fig,ax = plt.subplots(1,2,figsize=(12,3))\n",
    "ex = (0.05, 0)\n",
    "\n",
    "df['target'].value_counts().plot(kind='pie',autopct='%.2f',explode= ex, ax=ax[0])\n",
    "sns.countplot(x='target', data=df,width=0.3, ax=ax[1])\n",
    "\n",
    "plt.subplots_adjust(wspace=0.2)\n",
    "plt.show()"
   ]
  },
  {
   "cell_type": "markdown",
   "id": "710fbb8b-35ec-4957-a22d-e70fe588dc99",
   "metadata": {},
   "source": [
    "Now after this initial exploratory data analysis, we will first do cleaning of our data, and then we will again do some more data analysis using some more advance techiques"
   ]
  },
  {
   "cell_type": "markdown",
   "id": "03162e9d-4ddc-4f2c-9769-292653a92b7f",
   "metadata": {
    "tags": []
   },
   "source": [
    "## Step 3: Data cleaning \n",
    "\n",
    "- Removal of punctuations\n",
    "- Tokenization\n",
    "- Lowercasing excluding country names\n",
    "- Stop word removal\n",
    "- Spelling check\n",
    "- Stemming/lemmatization\n",
    "\n",
    "\n",
    "\n",
    "The main difference between POS tagging and NER is that POS tags are attached to single words, while NER tags can be attached to multiple words [1]. Additionally, POS tagging is focused on identifying the part of speech of a single word, while NER is focused on identifying entities within the text, such as people, places, organizations, and events. NER also involves not only detecting the type of Named Entity [1], but also segmenting the entity from the text."
   ]
  },
  {
   "cell_type": "code",
   "execution_count": 10,
   "id": "7566218b-0089-491d-a7f0-05f52cb23f23",
   "metadata": {
    "tags": []
   },
   "outputs": [],
   "source": [
    "# Since title have some null values in it so we will simply remove them\n",
    "df.dropna(inplace=True)"
   ]
  },
  {
   "cell_type": "code",
   "execution_count": 11,
   "id": "abd9b504-deae-4e01-a38d-3c423818154b",
   "metadata": {
    "tags": []
   },
   "outputs": [],
   "source": [
    "# Let's now create methods for doing data clearning\n",
    "\n",
    "# Method for removing punctuation\n",
    "def remove_punctuations(text):\n",
    "    clean_text = [alphabet for alphabet in text if alphabet not in string.punctuation]\n",
    "    clean_text = ''.join(clean_text)\n",
    "    return clean_text\n",
    "\n",
    "# Method for lowercasing words except the country names\n",
    "country_names = set([country.name for country in pycountry.countries])\n",
    "def lower_case(text):\n",
    "    tokens_word = text.split()\n",
    "    low = [word.lower() if word not in country_names else word for word in tokens_word]\n",
    "    low = ' '.join(low)\n",
    "    return low\n",
    "\n",
    "# Method for removal of stop words\n",
    "stop_words = set(stopwords.words('english'))\n",
    "def remove_stopwords(text):\n",
    "    tokens_word = text.split()\n",
    "    no_stop = [word for word in tokens_word if word not in stop_words]\n",
    "    no_stop = ' '.join(no_stop)\n",
    "    return no_stop\n",
    "\n",
    "# Method for doing lemmatization\n",
    "lemm = WordNetLemmatizer()\n",
    "def lemmatize(text):\n",
    "    tokens_word = text.split()\n",
    "    lemm_word = [lemm.lemmatize(word) for word in tokens_word]\n",
    "    lemm_word = ' '.join(lemm_word)\n",
    "    return lemm_word"
   ]
  },
  {
   "cell_type": "code",
   "execution_count": 12,
   "id": "1aaf1b2a-a4cc-4b06-95f7-9817e9115401",
   "metadata": {
    "tags": []
   },
   "outputs": [],
   "source": [
    "def title_prep(text):\n",
    "    cleaned_text = remove_punctuations(text)\n",
    "    cleaned_text = lower_case(cleaned_text)\n",
    "    cleaned_text = remove_stopwords(cleaned_text)\n",
    "    cleaned_text = lemmatize(cleaned_text)\n",
    "    return cleaned_text"
   ]
  },
  {
   "cell_type": "code",
   "execution_count": 16,
   "id": "266065ca-c57b-4c30-bead-4c5213d6e1a5",
   "metadata": {
    "tags": []
   },
   "outputs": [],
   "source": [
    "X_title_transformed = df['title'].apply(title_prep)\n",
    "df['new_title'] = X_title_transformed\n",
    "\n",
    "# Dropping the title column\n",
    "df.drop(['title'],axis = 1,inplace=True)"
   ]
  },
  {
   "cell_type": "markdown",
   "id": "469646ee-2d68-4645-86cc-7f4ef010f845",
   "metadata": {},
   "source": [
    "After cleaning the data our next step would be to create embeddings"
   ]
  },
  {
   "cell_type": "code",
   "execution_count": null,
   "id": "eb415b02-5383-48eb-9c12-1389dbd056d5",
   "metadata": {},
   "outputs": [],
   "source": []
  },
  {
   "cell_type": "code",
   "execution_count": 13,
   "id": "02ec858c-cf2a-4a21-be7e-471a6198905c",
   "metadata": {},
   "outputs": [],
   "source": [
    "# Let's now format the data for the Word2Vec Model\n",
    "cleaned_Data = []\n",
    "for text in cleaned_data:\n",
    "    cleaned_Data.append(simple_preprocess(text))"
   ]
  },
  {
   "cell_type": "markdown",
   "id": "e9a49803-5522-463f-9ea1-547f7ec5c30f",
   "metadata": {
    "tags": []
   },
   "source": [
    "# Creating word embeddings"
   ]
  },
  {
   "cell_type": "code",
   "execution_count": 15,
   "id": "08431fae-3420-4900-914e-4a908c815281",
   "metadata": {},
   "outputs": [],
   "source": [
    "# Let's create a Word2Vec model and build the vocabulary\n",
    "model = Word2Vec(window=5, min_count=1, workers=4)\n",
    "model.build_vocab(cleaned_Data)"
   ]
  },
  {
   "cell_type": "code",
   "execution_count": 16,
   "id": "1a91f646-989c-4526-ab95-4ab28438d8af",
   "metadata": {},
   "outputs": [
    {
     "data": {
      "text/plain": [
       "(1873711, 1980520)"
      ]
     },
     "execution_count": 16,
     "metadata": {},
     "output_type": "execute_result"
    }
   ],
   "source": [
    "# Training the Word2Vec model for creating word embeddings\n",
    "model.train(cleaned_Data, total_examples=model.corpus_count, epochs=model.epochs)"
   ]
  },
  {
   "cell_type": "markdown",
   "id": "43dc4d33-f239-4b7c-9aef-9264c9e13894",
   "metadata": {},
   "source": [
    "# Dimensionality reduction using PCA"
   ]
  },
  {
   "cell_type": "code",
   "execution_count": 23,
   "id": "2f0a9b76-b12e-4b35-99c0-8410738eab27",
   "metadata": {},
   "outputs": [],
   "source": [
    "# Let's reduce the dimensions\n",
    "pca = PCA(n_components=3)"
   ]
  },
  {
   "cell_type": "code",
   "execution_count": 24,
   "id": "9db79057-94eb-4fc6-931f-e7e29cded7c7",
   "metadata": {},
   "outputs": [],
   "source": [
    "X = pca.fit_transform(model.wv.get_normed_vectors())"
   ]
  },
  {
   "cell_type": "markdown",
   "id": "1366daf9-3928-453b-b130-ef4898f6d897",
   "metadata": {
    "tags": []
   },
   "source": [
    "# Model training"
   ]
  },
  {
   "cell_type": "markdown",
   "id": "5dd906d5-bc8d-4c59-8de7-184d68e44c6f",
   "metadata": {
    "jp-MarkdownHeadingCollapsed": true,
    "tags": []
   },
   "source": [
    "# Model evaluation"
   ]
  },
  {
   "cell_type": "code",
   "execution_count": null,
   "id": "95fc0a9c-ff6d-4554-8aad-daacf7114e5a",
   "metadata": {},
   "outputs": [],
   "source": []
  }
 ],
 "metadata": {
  "kernelspec": {
   "display_name": "text_data",
   "language": "python",
   "name": "text_data"
  },
  "language_info": {
   "codemirror_mode": {
    "name": "ipython",
    "version": 3
   },
   "file_extension": ".py",
   "mimetype": "text/x-python",
   "name": "python",
   "nbconvert_exporter": "python",
   "pygments_lexer": "ipython3",
   "version": "3.10.9"
  }
 },
 "nbformat": 4,
 "nbformat_minor": 5
}
